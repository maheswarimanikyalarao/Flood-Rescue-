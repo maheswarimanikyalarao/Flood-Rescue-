{
  "nbformat": 4,
  "nbformat_minor": 0,
  "metadata": {
    "colab": {
      "provenance": []
    },
    "kernelspec": {
      "name": "python3",
      "display_name": "Python 3"
    },
    "language_info": {
      "name": "python"
    }
  },
  "cells": [
    {
      "cell_type": "markdown",
      "source": [
        "Sorting the locations distance using dijkstra Algorithm and taking distance and the previous location of a location from which it reached in shortest distance"
      ],
      "metadata": {
        "id": "49jOCNRW9dkz"
      }
    },
    {
      "cell_type": "code",
      "execution_count": null,
      "metadata": {
        "colab": {
          "base_uri": "https://localhost:8080/"
        },
        "id": "6OyJtRh3aGJR",
        "outputId": "d9cf1686-d47a-43b9-a244-b826ac6c03a8"
      },
      "outputs": [
        {
          "output_type": "stream",
          "name": "stdout",
          "text": [
            "{1: 0, 2: 1, 3: 2, 4: 4, 5: 2}\n",
            "{1: None, 2: 1, 3: 1, 4: 3, 5: 2}\n"
          ]
        }
      ],
      "source": [
        "from heapq import *\n",
        "\n",
        "def dijkstra(graph,start,visited,distance):\n",
        "    bag=[]\n",
        "    distance[start] = 0\n",
        "    heappush(bag,[0,start])\n",
        "    while bag:\n",
        "        d,n = heappop(bag)\n",
        "        visited[n] = 1\n",
        "        for cd,cn in graph[n]:\n",
        "            if not visited[cn] and distance[n]+cd < distance[cn]:\n",
        "                distance[cn] = distance[n]+cd\n",
        "                parent[cn] = n\n",
        "\n",
        "                heappush(bag,[distance[cn],cn])\n",
        "\n",
        "    print(distance)\n",
        "    print(parent)\n",
        "    return distance,parent\n",
        "# 1st node , 2nd node, distance\n",
        "ipt = [[1,3,2],[1,2,1],[2,3,1],[2,5,1],[3,4,2],[5,4,2]]\n",
        "n = 5\n",
        "graph = {}\n",
        "distance = {}\n",
        "visited = {}\n",
        "parent = {}\n",
        "for i in range(1,n+1):\n",
        "    graph[i]=[]\n",
        "    distance[i] = 10**8+1\n",
        "    visited[i] = 0\n",
        "    parent[i] = None\n",
        "for u,v,d in ipt:\n",
        "    graph[u].append([d,v])\n",
        "    graph[v].append([d,u])\n",
        "start = 1\n",
        "\n",
        "\n",
        "distance_dict,parent_dict=dijkstra(graph,start,visited,distance)\n"
      ]
    },
    {
      "cell_type": "markdown",
      "source": [],
      "metadata": {
        "id": "08hH7dxZjDMg"
      }
    },
    {
      "cell_type": "code",
      "source": [
        "distance_dict = {key: value for key, value in sorted(distance_dict.items(), key=lambda item: item[1])}\n",
        "\n",
        "# Output the sorted dictionary\n",
        "print(distance_dict)"
      ],
      "metadata": {
        "colab": {
          "base_uri": "https://localhost:8080/"
        },
        "id": "8mq0Hkc5zzYP",
        "outputId": "13107573-fe7e-487e-a40b-c86055fa1d80"
      },
      "execution_count": null,
      "outputs": [
        {
          "output_type": "stream",
          "name": "stdout",
          "text": [
            "{1: 0, 2: 1, 3: 2, 5: 2, 4: 4}\n"
          ]
        }
      ]
    },
    {
      "cell_type": "code",
      "source": [],
      "metadata": {
        "id": "CFG-LfWX96Nd"
      },
      "execution_count": null,
      "outputs": []
    },
    {
      "cell_type": "markdown",
      "source": [
        "Assumed only one boat there\n",
        "and the input is in the form of location and category of people: their rescue factor and no of people"
      ],
      "metadata": {
        "id": "NG1iCine9-xW"
      }
    },
    {
      "cell_type": "code",
      "source": [
        "boatweight = 20\n",
        "# input in the form of {location:{child:[rescue factor,no of people],women:,old:,men:}\n",
        "\n",
        "\n",
        "input_data={\n",
        "\n",
        "\n",
        "    2:{1:[4,10],\n",
        "        2:[3,5],\n",
        "        3:[2,18],\n",
        "        4:[1,3],\n",
        "\n",
        "        },\n",
        "    3:{1:[4,10],\n",
        "        2:[3,15],\n",
        "        3:[2,16],\n",
        "        4:[1,8],\n",
        "\n",
        "        },\n",
        "    4:{1:[4,4],\n",
        "        2:[3,5],\n",
        "        3:[2,12],\n",
        "        4:[1,7],\n",
        "\n",
        "        },\n",
        "    5:{1:[4,2],\n",
        "        2:[3,4],\n",
        "        3:[2,3],\n",
        "         4:[1,1],\n",
        "\n",
        "        },\n",
        "\n",
        "    }"
      ],
      "metadata": {
        "id": "8ubQ65aOMWka"
      },
      "execution_count": null,
      "outputs": []
    },
    {
      "cell_type": "code",
      "source": [],
      "metadata": {
        "id": "Pm9JZ3kT-yIZ"
      },
      "execution_count": null,
      "outputs": []
    },
    {
      "cell_type": "markdown",
      "source": [
        "Applied certain part of fractional knapsack ie stack weighting part\n",
        "and also recursively goes to it previous location to take people left in the previous location if the boat has space left while returning."
      ],
      "metadata": {
        "id": "g0KKLgRGAzBW"
      }
    },
    {
      "cell_type": "code",
      "source": [
        "# Initialize the matrix\n",
        "def initialize_matrix(num_keys, num_items):\n",
        "    return [[0 for _ in range(num_items)] for _ in range(num_keys)]\n",
        "\n",
        "# Function to update the input data with remaining weights after each knapsack run\n",
        "def update_remaining_input(input_dict, matrix, key):\n",
        "    if key in input_dict:\n",
        "        items_dict = input_dict[key]\n",
        "        for item_key, (profit, weight) in items_dict.items():\n",
        "            used_weight = matrix[key - 1][item_key - 1]\n",
        "            if used_weight > 0:\n",
        "                remaining_weight = weight - used_weight\n",
        "                if remaining_weight > 0:\n",
        "                    remaining_profit = profit\n",
        "                    input_dict[key][item_key] = [remaining_profit, remaining_weight]\n",
        "                else:\n",
        "                    input_dict[key][item_key] = [profit, 0]\n",
        "\n",
        "# Recursive knapsack function with people saved tracking\n",
        "def fractional_knapsack_for_key(boatweight, key, input_dict, matrix, parent_dict):\n",
        "    current_weight = 0\n",
        "    total_saved = 0\n",
        "    total_left = 0\n",
        "    items = []\n",
        "\n",
        "    if key in input_dict:\n",
        "        items_dict = input_dict[key]\n",
        "        for item_key, item_values in items_dict.items():\n",
        "            if len(item_values) == 2:\n",
        "                profit, weight = item_values\n",
        "            else:\n",
        "                print(f\"Skipping invalid item at location {key}, item {item_key}: {item_values}\")\n",
        "                continue\n",
        "\n",
        "            if weight > 0:\n",
        "                pw_ratio = profit / weight\n",
        "                items.append((pw_ratio, weight, profit, item_key))\n",
        "\n",
        "        items.sort(reverse=True, key=lambda x: x[0])\n",
        "\n",
        "        print(f\"--- Starting rescue operation at Location {key} ---\")\n",
        "\n",
        "        for pw_ratio, weight, profit, item_key in items:\n",
        "            if current_weight + weight <= boatweight:\n",
        "                current_weight += weight\n",
        "                matrix[key - 1][item_key - 1] += weight\n",
        "                total_saved += weight\n",
        "            else:\n",
        "                remaining_weight = boatweight - current_weight\n",
        "                fraction = remaining_weight\n",
        "                current_weight += remaining_weight\n",
        "                matrix[key - 1][item_key - 1] += weight + fraction\n",
        "                total_saved += remaining_weight\n",
        "                total_left += weight - remaining_weight\n",
        "                break\n",
        "\n",
        "        update_remaining_input(input_dict, matrix, key)\n",
        "\n",
        "        print(f\"People saved from Location {key}: {total_saved}\")\n",
        "        print(f\"People left at Location {key}: {total_left}\")\n",
        "\n",
        "        if current_weight < boatweight and parent_dict[key] is not None:\n",
        "            parent_key = parent_dict[key]\n",
        "            print(f\"Calling rescue operation for parent Location {parent_key} due to leftover capacity...\")\n",
        "            fractional_knapsack_for_key(boatweight - current_weight, parent_key, input_dict, matrix, parent_dict)\n",
        "\n",
        "    print(f\"--- End of rescue operation at Location {key} ---\\n\")\n",
        "\n",
        "\n",
        "# Sample parent dictionary to track hierarchy (example setup)\n",
        "\n",
        "# Initialize matrix for 5 keys (locations) and 4 items (groups: children, women, old, men)\n",
        "num_keys = 5\n",
        "num_items = 4\n",
        "matrix = initialize_matrix(num_keys, num_items)\n",
        "\n",
        "# Process the knapsack function based on the order of keys in the input data\n",
        "for key in distance_dict.keys():\n",
        "    fractional_knapsack_for_key(boatweight, key, input_data, matrix, parent_dict)\n",
        "\n",
        "# Category labels for clarity\n",
        "categories = ['Children', 'Women', 'Old', 'Men']\n",
        "\n",
        "# Output the matrix in a user-friendly format\n",
        "print(\"Number of people saved from each category at each location:\")\n",
        "for i in range(1,num_keys):\n",
        "    print(f\"Location {i + 1}:\")\n",
        "    for j in range(num_items):\n",
        "        print(f\"  {categories[j]}: {matrix[i][j]} people\")\n",
        "    print()  # Blank line between locations\n"
      ],
      "metadata": {
        "id": "0zCG3jQRL_Zb",
        "colab": {
          "base_uri": "https://localhost:8080/"
        },
        "outputId": "ff085993-a9aa-4579-9ab3-35941f967528"
      },
      "execution_count": null,
      "outputs": [
        {
          "output_type": "stream",
          "name": "stdout",
          "text": [
            "--- End of rescue operation at Location 1 ---\n",
            "\n",
            "--- Starting rescue operation at Location 2 ---\n",
            "People saved from Location 2: 20\n",
            "People left at Location 2: 16\n",
            "--- End of rescue operation at Location 2 ---\n",
            "\n",
            "--- Starting rescue operation at Location 3 ---\n",
            "People saved from Location 3: 20\n",
            "People left at Location 3: 5\n",
            "--- End of rescue operation at Location 3 ---\n",
            "\n",
            "--- Starting rescue operation at Location 5 ---\n",
            "People saved from Location 5: 10\n",
            "People left at Location 5: 0\n",
            "Calling rescue operation for parent Location 2 due to leftover capacity...\n",
            "--- Starting rescue operation at Location 2 ---\n",
            "People saved from Location 2: 0\n",
            "People left at Location 2: 0\n",
            "Calling rescue operation for parent Location 1 due to leftover capacity...\n",
            "--- End of rescue operation at Location 1 ---\n",
            "\n",
            "--- End of rescue operation at Location 2 ---\n",
            "\n",
            "--- End of rescue operation at Location 5 ---\n",
            "\n",
            "--- Starting rescue operation at Location 4 ---\n",
            "People saved from Location 4: 20\n",
            "People left at Location 4: 1\n",
            "--- End of rescue operation at Location 4 ---\n",
            "\n",
            "Number of people saved from each category at each location:\n",
            "Location 2:\n",
            "  Children: 10 people\n",
            "  Women: 5 people\n",
            "  Old: 20 people\n",
            "  Men: 3 people\n",
            "\n",
            "Location 3:\n",
            "  Children: 10 people\n",
            "  Women: 25 people\n",
            "  Old: 0 people\n",
            "  Men: 0 people\n",
            "\n",
            "Location 4:\n",
            "  Children: 4 people\n",
            "  Women: 5 people\n",
            "  Old: 23 people\n",
            "  Men: 0 people\n",
            "\n",
            "Location 5:\n",
            "  Children: 2 people\n",
            "  Women: 4 people\n",
            "  Old: 3 people\n",
            "  Men: 1 people\n",
            "\n"
          ]
        }
      ]
    },
    {
      "cell_type": "code",
      "source": [],
      "metadata": {
        "id": "9dOtJ6Wdsmla",
        "collapsed": true
      },
      "execution_count": null,
      "outputs": []
    },
    {
      "cell_type": "code",
      "source": [],
      "metadata": {
        "id": "WJtaNf-UzQmm",
        "collapsed": true
      },
      "execution_count": null,
      "outputs": []
    },
    {
      "cell_type": "code",
      "source": [],
      "metadata": {
        "id": "vECVpQCUtdvk"
      },
      "execution_count": null,
      "outputs": []
    }
  ]
}